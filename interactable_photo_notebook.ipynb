{
 "cells": [
  {
   "cell_type": "markdown",
   "id": "b2811f29",
   "metadata": {},
   "source": [
    "# Import Required Libraries\n",
    "Import necessary libraries such as IPython.display for rendering HTML and handling interactions."
   ]
  },
  {
   "cell_type": "code",
   "execution_count": null,
   "id": "86e904b9",
   "metadata": {},
   "outputs": [],
   "source": [
    "# Import Required Libraries\n",
    "from IPython.display import HTML, display"
   ]
  },
  {
   "cell_type": "markdown",
   "id": "bd890267",
   "metadata": {},
   "source": [
    "# Display Interactable Photo\n",
    "Embed an image in the notebook using HTML and make it clickable using an anchor tag."
   ]
  },
  {
   "cell_type": "code",
   "execution_count": null,
   "id": "64efd32a",
   "metadata": {},
   "outputs": [],
   "source": [
    "# Display Interactable Photo\n",
    "photo_html = \"\"\"\n",
    "<a href=\"alumniviewnews.php\">\n",
    "    <img src=\"https://via.placeholder.com/300\" alt=\"Interactable Photo\" style=\"cursor: pointer;\">\n",
    "</a>\n",
    "\"\"\"\n",
    "display(HTML(photo_html))"
   ]
  },
  {
   "cell_type": "markdown",
   "id": "907ae583",
   "metadata": {},
   "source": [
    "# Handle Click Event\n",
    "Use JavaScript or HTML to capture the click event on the photo."
   ]
  },
  {
   "cell_type": "code",
   "execution_count": null,
   "id": "a8716268",
   "metadata": {},
   "outputs": [],
   "source": [
    "# Handle Click Event\n",
    "# Note: The click event is handled directly in the HTML anchor tag above.\n",
    "# Additional JavaScript logic can be added if needed for more complex interactions."
   ]
  },
  {
   "cell_type": "markdown",
   "id": "2c760fc2",
   "metadata": {},
   "source": [
    "# Redirect to alumniviewnews.php\n",
    "Implement the redirection logic to navigate to alumniviewnews.php upon clicking the photo."
   ]
  },
  {
   "cell_type": "code",
   "execution_count": null,
   "id": "e747378c",
   "metadata": {},
   "outputs": [],
   "source": [
    "# Redirect to alumniviewnews.php\n",
    "# The redirection is already implemented in the anchor tag's href attribute.\n",
    "# No additional Python logic is required for this step."
   ]
  },
  {
   "cell_type": "markdown",
   "id": "e8954c5e",
   "metadata": {},
   "source": [
    "# Create Interaction Logic File\n",
    "Generate a new file (e.g., interaction.js or interaction.php) to handle additional interaction logic if needed."
   ]
  },
  {
   "cell_type": "code",
   "execution_count": null,
   "id": "144ae2f0",
   "metadata": {},
   "outputs": [],
   "source": [
    "# Create Interaction Logic File\n",
    "# Writing a basic interaction.js file for handling additional logic\n",
    "interaction_js_content = \"\"\"\n",
    "document.addEventListener('DOMContentLoaded', function() {\n",
    "    const photo = document.querySelector('img');\n",
    "    photo.addEventListener('click', function() {\n",
    "        console.log('Photo clicked!');\n",
    "    });\n",
    "});\n",
    "\"\"\"\n",
    "\n",
    "# Save the interaction.js file in the specified location\n",
    "file_path = \"c:/xampp/htdocs/public_html/interaction.js\"\n",
    "with open(file_path, \"w\") as file:\n",
    "    file.write(interaction_js_content)\n",
    "\n",
    "print(f\"Interaction logic file created at: {file_path}\")"
   ]
  }
 ],
 "metadata": {
  "language_info": {
   "name": "python"
  }
 },
 "nbformat": 4,
 "nbformat_minor": 5
}
